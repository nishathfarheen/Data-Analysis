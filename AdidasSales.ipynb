{
  "cells": [
    {
      "cell_type": "code",
      "execution_count": null,
      "metadata": {
        "colab": {
          "base_uri": "https://localhost:8080/",
          "height": 818
        },
        "id": "ON4_Ayo8TOZr",
        "outputId": "127043bb-bc4a-47dc-9688-5042f2d12e1d"
      },
      "outputs": [
        {
          "output_type": "execute_result",
          "data": {
            "text/plain": [
              "      Unnamed: 0     Retailer  Retailer ID Invoice Date     Region  \\\n",
              "0            NaN  Foot Locker      1185732   2020-01-01  Northeast   \n",
              "1            NaN  Foot Locker      1185732   2020-01-02  Northeast   \n",
              "2            NaN  Foot Locker      1185732   2020-01-03  Northeast   \n",
              "3            NaN  Foot Locker      1185732   2020-01-04  Northeast   \n",
              "4            NaN  Foot Locker      1185732   2020-01-05  Northeast   \n",
              "...          ...          ...          ...          ...        ...   \n",
              "9643         NaN  Foot Locker      1185732   2021-01-24  Northeast   \n",
              "9644         NaN  Foot Locker      1185732   2021-01-24  Northeast   \n",
              "9645         NaN  Foot Locker      1185732   2021-02-22  Northeast   \n",
              "9646         NaN  Foot Locker      1185732   2021-02-22  Northeast   \n",
              "9647         NaN  Foot Locker      1185732   2021-02-22  Northeast   \n",
              "\n",
              "              State        City                    Product  Price per Unit  \\\n",
              "0          New York    New York      Men's Street Footwear            50.0   \n",
              "1          New York    New York    Men's Athletic Footwear            50.0   \n",
              "2          New York    New York    Women's Street Footwear            40.0   \n",
              "3          New York    New York  Women's Athletic Footwear            45.0   \n",
              "4          New York    New York              Men's Apparel            60.0   \n",
              "...             ...         ...                        ...             ...   \n",
              "9643  New Hampshire  Manchester              Men's Apparel            50.0   \n",
              "9644  New Hampshire  Manchester            Women's Apparel            41.0   \n",
              "9645  New Hampshire  Manchester      Men's Street Footwear            41.0   \n",
              "9646  New Hampshire  Manchester    Men's Athletic Footwear            42.0   \n",
              "9647  New Hampshire  Manchester    Women's Street Footwear            29.0   \n",
              "\n",
              "      Units Sold  Total Sales  Operating Profit  Operating Margin Sales Method  \n",
              "0           1200     600000.0         300000.00              0.50     In-store  \n",
              "1           1000     500000.0         150000.00              0.30     In-store  \n",
              "2           1000     400000.0         140000.00              0.35     In-store  \n",
              "3            850     382500.0         133875.00              0.35     In-store  \n",
              "4            900     540000.0         162000.00              0.30     In-store  \n",
              "...          ...          ...               ...               ...          ...  \n",
              "9643          64       3200.0            896.00              0.28       Outlet  \n",
              "9644         105       4305.0           1377.60              0.32       Outlet  \n",
              "9645         184       7544.0           2791.28              0.37       Outlet  \n",
              "9646          70       2940.0           1234.80              0.42       Outlet  \n",
              "9647          83       2407.0            649.89              0.27       Outlet  \n",
              "\n",
              "[9648 rows x 14 columns]"
            ],
            "text/html": [
              "\n",
              "  <div id=\"df-49ec15c3-1877-46b6-b72f-350aad815429\">\n",
              "    <div class=\"colab-df-container\">\n",
              "      <div>\n",
              "<style scoped>\n",
              "    .dataframe tbody tr th:only-of-type {\n",
              "        vertical-align: middle;\n",
              "    }\n",
              "\n",
              "    .dataframe tbody tr th {\n",
              "        vertical-align: top;\n",
              "    }\n",
              "\n",
              "    .dataframe thead th {\n",
              "        text-align: right;\n",
              "    }\n",
              "</style>\n",
              "<table border=\"1\" class=\"dataframe\">\n",
              "  <thead>\n",
              "    <tr style=\"text-align: right;\">\n",
              "      <th></th>\n",
              "      <th>Unnamed: 0</th>\n",
              "      <th>Retailer</th>\n",
              "      <th>Retailer ID</th>\n",
              "      <th>Invoice Date</th>\n",
              "      <th>Region</th>\n",
              "      <th>State</th>\n",
              "      <th>City</th>\n",
              "      <th>Product</th>\n",
              "      <th>Price per Unit</th>\n",
              "      <th>Units Sold</th>\n",
              "      <th>Total Sales</th>\n",
              "      <th>Operating Profit</th>\n",
              "      <th>Operating Margin</th>\n",
              "      <th>Sales Method</th>\n",
              "    </tr>\n",
              "  </thead>\n",
              "  <tbody>\n",
              "    <tr>\n",
              "      <th>0</th>\n",
              "      <td>NaN</td>\n",
              "      <td>Foot Locker</td>\n",
              "      <td>1185732</td>\n",
              "      <td>2020-01-01</td>\n",
              "      <td>Northeast</td>\n",
              "      <td>New York</td>\n",
              "      <td>New York</td>\n",
              "      <td>Men's Street Footwear</td>\n",
              "      <td>50.0</td>\n",
              "      <td>1200</td>\n",
              "      <td>600000.0</td>\n",
              "      <td>300000.00</td>\n",
              "      <td>0.50</td>\n",
              "      <td>In-store</td>\n",
              "    </tr>\n",
              "    <tr>\n",
              "      <th>1</th>\n",
              "      <td>NaN</td>\n",
              "      <td>Foot Locker</td>\n",
              "      <td>1185732</td>\n",
              "      <td>2020-01-02</td>\n",
              "      <td>Northeast</td>\n",
              "      <td>New York</td>\n",
              "      <td>New York</td>\n",
              "      <td>Men's Athletic Footwear</td>\n",
              "      <td>50.0</td>\n",
              "      <td>1000</td>\n",
              "      <td>500000.0</td>\n",
              "      <td>150000.00</td>\n",
              "      <td>0.30</td>\n",
              "      <td>In-store</td>\n",
              "    </tr>\n",
              "    <tr>\n",
              "      <th>2</th>\n",
              "      <td>NaN</td>\n",
              "      <td>Foot Locker</td>\n",
              "      <td>1185732</td>\n",
              "      <td>2020-01-03</td>\n",
              "      <td>Northeast</td>\n",
              "      <td>New York</td>\n",
              "      <td>New York</td>\n",
              "      <td>Women's Street Footwear</td>\n",
              "      <td>40.0</td>\n",
              "      <td>1000</td>\n",
              "      <td>400000.0</td>\n",
              "      <td>140000.00</td>\n",
              "      <td>0.35</td>\n",
              "      <td>In-store</td>\n",
              "    </tr>\n",
              "    <tr>\n",
              "      <th>3</th>\n",
              "      <td>NaN</td>\n",
              "      <td>Foot Locker</td>\n",
              "      <td>1185732</td>\n",
              "      <td>2020-01-04</td>\n",
              "      <td>Northeast</td>\n",
              "      <td>New York</td>\n",
              "      <td>New York</td>\n",
              "      <td>Women's Athletic Footwear</td>\n",
              "      <td>45.0</td>\n",
              "      <td>850</td>\n",
              "      <td>382500.0</td>\n",
              "      <td>133875.00</td>\n",
              "      <td>0.35</td>\n",
              "      <td>In-store</td>\n",
              "    </tr>\n",
              "    <tr>\n",
              "      <th>4</th>\n",
              "      <td>NaN</td>\n",
              "      <td>Foot Locker</td>\n",
              "      <td>1185732</td>\n",
              "      <td>2020-01-05</td>\n",
              "      <td>Northeast</td>\n",
              "      <td>New York</td>\n",
              "      <td>New York</td>\n",
              "      <td>Men's Apparel</td>\n",
              "      <td>60.0</td>\n",
              "      <td>900</td>\n",
              "      <td>540000.0</td>\n",
              "      <td>162000.00</td>\n",
              "      <td>0.30</td>\n",
              "      <td>In-store</td>\n",
              "    </tr>\n",
              "    <tr>\n",
              "      <th>...</th>\n",
              "      <td>...</td>\n",
              "      <td>...</td>\n",
              "      <td>...</td>\n",
              "      <td>...</td>\n",
              "      <td>...</td>\n",
              "      <td>...</td>\n",
              "      <td>...</td>\n",
              "      <td>...</td>\n",
              "      <td>...</td>\n",
              "      <td>...</td>\n",
              "      <td>...</td>\n",
              "      <td>...</td>\n",
              "      <td>...</td>\n",
              "      <td>...</td>\n",
              "    </tr>\n",
              "    <tr>\n",
              "      <th>9643</th>\n",
              "      <td>NaN</td>\n",
              "      <td>Foot Locker</td>\n",
              "      <td>1185732</td>\n",
              "      <td>2021-01-24</td>\n",
              "      <td>Northeast</td>\n",
              "      <td>New Hampshire</td>\n",
              "      <td>Manchester</td>\n",
              "      <td>Men's Apparel</td>\n",
              "      <td>50.0</td>\n",
              "      <td>64</td>\n",
              "      <td>3200.0</td>\n",
              "      <td>896.00</td>\n",
              "      <td>0.28</td>\n",
              "      <td>Outlet</td>\n",
              "    </tr>\n",
              "    <tr>\n",
              "      <th>9644</th>\n",
              "      <td>NaN</td>\n",
              "      <td>Foot Locker</td>\n",
              "      <td>1185732</td>\n",
              "      <td>2021-01-24</td>\n",
              "      <td>Northeast</td>\n",
              "      <td>New Hampshire</td>\n",
              "      <td>Manchester</td>\n",
              "      <td>Women's Apparel</td>\n",
              "      <td>41.0</td>\n",
              "      <td>105</td>\n",
              "      <td>4305.0</td>\n",
              "      <td>1377.60</td>\n",
              "      <td>0.32</td>\n",
              "      <td>Outlet</td>\n",
              "    </tr>\n",
              "    <tr>\n",
              "      <th>9645</th>\n",
              "      <td>NaN</td>\n",
              "      <td>Foot Locker</td>\n",
              "      <td>1185732</td>\n",
              "      <td>2021-02-22</td>\n",
              "      <td>Northeast</td>\n",
              "      <td>New Hampshire</td>\n",
              "      <td>Manchester</td>\n",
              "      <td>Men's Street Footwear</td>\n",
              "      <td>41.0</td>\n",
              "      <td>184</td>\n",
              "      <td>7544.0</td>\n",
              "      <td>2791.28</td>\n",
              "      <td>0.37</td>\n",
              "      <td>Outlet</td>\n",
              "    </tr>\n",
              "    <tr>\n",
              "      <th>9646</th>\n",
              "      <td>NaN</td>\n",
              "      <td>Foot Locker</td>\n",
              "      <td>1185732</td>\n",
              "      <td>2021-02-22</td>\n",
              "      <td>Northeast</td>\n",
              "      <td>New Hampshire</td>\n",
              "      <td>Manchester</td>\n",
              "      <td>Men's Athletic Footwear</td>\n",
              "      <td>42.0</td>\n",
              "      <td>70</td>\n",
              "      <td>2940.0</td>\n",
              "      <td>1234.80</td>\n",
              "      <td>0.42</td>\n",
              "      <td>Outlet</td>\n",
              "    </tr>\n",
              "    <tr>\n",
              "      <th>9647</th>\n",
              "      <td>NaN</td>\n",
              "      <td>Foot Locker</td>\n",
              "      <td>1185732</td>\n",
              "      <td>2021-02-22</td>\n",
              "      <td>Northeast</td>\n",
              "      <td>New Hampshire</td>\n",
              "      <td>Manchester</td>\n",
              "      <td>Women's Street Footwear</td>\n",
              "      <td>29.0</td>\n",
              "      <td>83</td>\n",
              "      <td>2407.0</td>\n",
              "      <td>649.89</td>\n",
              "      <td>0.27</td>\n",
              "      <td>Outlet</td>\n",
              "    </tr>\n",
              "  </tbody>\n",
              "</table>\n",
              "<p>9648 rows × 14 columns</p>\n",
              "</div>\n",
              "      <button class=\"colab-df-convert\" onclick=\"convertToInteractive('df-49ec15c3-1877-46b6-b72f-350aad815429')\"\n",
              "              title=\"Convert this dataframe to an interactive table.\"\n",
              "              style=\"display:none;\">\n",
              "        \n",
              "  <svg xmlns=\"http://www.w3.org/2000/svg\" height=\"24px\"viewBox=\"0 0 24 24\"\n",
              "       width=\"24px\">\n",
              "    <path d=\"M0 0h24v24H0V0z\" fill=\"none\"/>\n",
              "    <path d=\"M18.56 5.44l.94 2.06.94-2.06 2.06-.94-2.06-.94-.94-2.06-.94 2.06-2.06.94zm-11 1L8.5 8.5l.94-2.06 2.06-.94-2.06-.94L8.5 2.5l-.94 2.06-2.06.94zm10 10l.94 2.06.94-2.06 2.06-.94-2.06-.94-.94-2.06-.94 2.06-2.06.94z\"/><path d=\"M17.41 7.96l-1.37-1.37c-.4-.4-.92-.59-1.43-.59-.52 0-1.04.2-1.43.59L10.3 9.45l-7.72 7.72c-.78.78-.78 2.05 0 2.83L4 21.41c.39.39.9.59 1.41.59.51 0 1.02-.2 1.41-.59l7.78-7.78 2.81-2.81c.8-.78.8-2.07 0-2.86zM5.41 20L4 18.59l7.72-7.72 1.47 1.35L5.41 20z\"/>\n",
              "  </svg>\n",
              "      </button>\n",
              "      \n",
              "  <style>\n",
              "    .colab-df-container {\n",
              "      display:flex;\n",
              "      flex-wrap:wrap;\n",
              "      gap: 12px;\n",
              "    }\n",
              "\n",
              "    .colab-df-convert {\n",
              "      background-color: #E8F0FE;\n",
              "      border: none;\n",
              "      border-radius: 50%;\n",
              "      cursor: pointer;\n",
              "      display: none;\n",
              "      fill: #1967D2;\n",
              "      height: 32px;\n",
              "      padding: 0 0 0 0;\n",
              "      width: 32px;\n",
              "    }\n",
              "\n",
              "    .colab-df-convert:hover {\n",
              "      background-color: #E2EBFA;\n",
              "      box-shadow: 0px 1px 2px rgba(60, 64, 67, 0.3), 0px 1px 3px 1px rgba(60, 64, 67, 0.15);\n",
              "      fill: #174EA6;\n",
              "    }\n",
              "\n",
              "    [theme=dark] .colab-df-convert {\n",
              "      background-color: #3B4455;\n",
              "      fill: #D2E3FC;\n",
              "    }\n",
              "\n",
              "    [theme=dark] .colab-df-convert:hover {\n",
              "      background-color: #434B5C;\n",
              "      box-shadow: 0px 1px 3px 1px rgba(0, 0, 0, 0.15);\n",
              "      filter: drop-shadow(0px 1px 2px rgba(0, 0, 0, 0.3));\n",
              "      fill: #FFFFFF;\n",
              "    }\n",
              "  </style>\n",
              "\n",
              "      <script>\n",
              "        const buttonEl =\n",
              "          document.querySelector('#df-49ec15c3-1877-46b6-b72f-350aad815429 button.colab-df-convert');\n",
              "        buttonEl.style.display =\n",
              "          google.colab.kernel.accessAllowed ? 'block' : 'none';\n",
              "\n",
              "        async function convertToInteractive(key) {\n",
              "          const element = document.querySelector('#df-49ec15c3-1877-46b6-b72f-350aad815429');\n",
              "          const dataTable =\n",
              "            await google.colab.kernel.invokeFunction('convertToInteractive',\n",
              "                                                     [key], {});\n",
              "          if (!dataTable) return;\n",
              "\n",
              "          const docLinkHtml = 'Like what you see? Visit the ' +\n",
              "            '<a target=\"_blank\" href=https://colab.research.google.com/notebooks/data_table.ipynb>data table notebook</a>'\n",
              "            + ' to learn more about interactive tables.';\n",
              "          element.innerHTML = '';\n",
              "          dataTable['output_type'] = 'display_data';\n",
              "          await google.colab.output.renderOutput(dataTable, element);\n",
              "          const docLink = document.createElement('div');\n",
              "          docLink.innerHTML = docLinkHtml;\n",
              "          element.appendChild(docLink);\n",
              "        }\n",
              "      </script>\n",
              "    </div>\n",
              "  </div>\n",
              "  "
            ]
          },
          "metadata": {},
          "execution_count": 1
        }
      ],
      "source": [
        "import pandas as pd\n",
        "ad=pd.read_excel(\"/content/Adidas_US_Sales_Datasets_1_.xlsx\")\n",
        "ad"
      ]
    },
    {
      "cell_type": "code",
      "execution_count": null,
      "metadata": {
        "colab": {
          "base_uri": "https://localhost:8080/"
        },
        "id": "KyAGoN-5U7PT",
        "outputId": "925ff605-4eb0-451e-e239-e6a3bf952d6d"
      },
      "outputs": [
        {
          "output_type": "execute_result",
          "data": {
            "text/plain": [
              "Retailer       Retailer ID\n",
              "Amazon         1185732               [Amazon]\n",
              "Foot Locker    1128299          [Foot Locker]\n",
              "               1185732          [Foot Locker]\n",
              "               1197831          [Foot Locker]\n",
              "Kohl's         1128299               [Kohl's]\n",
              "               1185732               [Kohl's]\n",
              "               1189833               [Kohl's]\n",
              "               1197831               [Kohl's]\n",
              "Sports Direct  1128299        [Sports Direct]\n",
              "               1185732        [Sports Direct]\n",
              "               1197831        [Sports Direct]\n",
              "Walmart        1128299              [Walmart]\n",
              "               1185732              [Walmart]\n",
              "               1197831              [Walmart]\n",
              "West Gear      1128299            [West Gear]\n",
              "               1185732            [West Gear]\n",
              "               1197831            [West Gear]\n",
              "Name: Retailer, dtype: object"
            ]
          },
          "metadata": {},
          "execution_count": 28
        }
      ],
      "source": [
        "#1.\tList all the retailers with retailer id.\n",
        "uni=ad.groupby([\"Retailer\",\"Retailer ID\"])\n",
        "uni[\"Retailer\"].unique()"
      ]
    },
    {
      "cell_type": "code",
      "execution_count": null,
      "metadata": {
        "colab": {
          "base_uri": "https://localhost:8080/"
        },
        "id": "B6g6vhYnVm1k",
        "outputId": "d62986bc-baa0-448e-cfeb-37920cd366c5"
      },
      "outputs": [
        {
          "output_type": "execute_result",
          "data": {
            "text/plain": [
              "Region\n",
              "Midwest      [Foot Locker, Sports Direct, Kohl's, West Gear...\n",
              "Northeast    [Foot Locker, Walmart, Sports Direct, West Gea...\n",
              "South        [Sports Direct, Walmart, West Gear, Foot Locke...\n",
              "Southeast    [Foot Locker, West Gear, Sports Direct, Walmar...\n",
              "West         [West Gear, Kohl's, Foot Locker, Amazon, Walma...\n",
              "Name: Retailer, dtype: object"
            ]
          },
          "metadata": {},
          "execution_count": 29
        }
      ],
      "source": [
        "#2.\tList all the retailers in every region.\n",
        "re=ad.groupby(\"Region\")\n",
        "re['Retailer'].unique().apply(list)"
      ]
    },
    {
      "cell_type": "code",
      "source": [
        "#3.\tList the retailers in every city of a state.\n",
        "li=ad.groupby([\"State\",\"City\"])\n",
        "li['Retailer'].unique().apply(list)"
      ],
      "metadata": {
        "colab": {
          "base_uri": "https://localhost:8080/"
        },
        "id": "EvZLwroSiZYg",
        "outputId": "0c608e09-365a-4d53-9e2f-f6c7382b3874"
      },
      "execution_count": null,
      "outputs": [
        {
          "output_type": "execute_result",
          "data": {
            "text/plain": [
              "State           City          \n",
              "Alabama         Birmingham                        [Sports Direct, Amazon]\n",
              "Alaska          Anchorage                           [Amazon, Foot Locker]\n",
              "Arizona         Phoenix                             [Foot Locker, Kohl's]\n",
              "Arkansas        Little Rock                          [Walmart, West Gear]\n",
              "California      Los Angeles                         [Kohl's, Foot Locker]\n",
              "                San Francisco                         [West Gear, Kohl's]\n",
              "Colorado        Denver                                        [West Gear]\n",
              "Connecticut     Hartford                     [Sports Direct, Foot Locker]\n",
              "Delaware        Wilmington                          [Foot Locker, Kohl's]\n",
              "Florida         Miami             [Foot Locker, West Gear, Sports Direct]\n",
              "                Orlando               [Sports Direct, Walmart, West Gear]\n",
              "Georgia         Atlanta                      [Sports Direct, Foot Locker]\n",
              "Hawaii          Honolulu            [Foot Locker, Walmart, Sports Direct]\n",
              "Idaho           Boise             [Foot Locker, West Gear, Sports Direct]\n",
              "Illinois        Chicago                      [Foot Locker, Sports Direct]\n",
              "Indiana         Indianapolis                                  [West Gear]\n",
              "Iowa            Des Moines                       [Foot Locker, West Gear]\n",
              "Kansas          Wichita                             [Kohl's, Foot Locker]\n",
              "Kentucky        Louisville                          [Amazon, Foot Locker]\n",
              "Louisiana       New Orleans                      [West Gear, Foot Locker]\n",
              "Maine           Portland                              [Amazon, West Gear]\n",
              "Maryland        Baltimore         [West Gear, Foot Locker, Sports Direct]\n",
              "Massachusetts   Boston                            [Sports Direct, Amazon]\n",
              "Michigan        Detroit                      [Sports Direct, Foot Locker]\n",
              "Minnesota       Minneapolis                         [Foot Locker, Kohl's]\n",
              "Mississippi     Jackson             [Foot Locker, Walmart, Sports Direct]\n",
              "Missouri        St. Louis                        [Foot Locker, West Gear]\n",
              "Montana         Billings                          [Kohl's, Sports Direct]\n",
              "Nebraska        Omaha                        [Foot Locker, Sports Direct]\n",
              "Nevada          Las Vegas                                     [West Gear]\n",
              "New Hampshire   Manchester                          [Amazon, Foot Locker]\n",
              "New Jersey      Newark                            [Kohl's, Sports Direct]\n",
              "New Mexico      Albuquerque                       [Kohl's, Sports Direct]\n",
              "New York        Albany                                [West Gear, Kohl's]\n",
              "                New York            [Foot Locker, Walmart, Sports Direct]\n",
              "North Carolina  Charlotte                         [Sports Direct, Amazon]\n",
              "North Dakota    Fargo                        [Sports Direct, Foot Locker]\n",
              "Ohio            Columbus                              [Amazon, West Gear]\n",
              "Oklahoma        Oklahoma City                         [West Gear, Kohl's]\n",
              "Oregon          Portland                                      [West Gear]\n",
              "Pennsylvania    Philadelphia                     [Foot Locker, West Gear]\n",
              "Rhode Island    Providence                   [Foot Locker, Sports Direct]\n",
              "South Carolina  Charleston                   [Foot Locker, Sports Direct]\n",
              "South Dakota    Sioux Falls                  [Foot Locker, Sports Direct]\n",
              "Tennessee       Knoxville                    [Sports Direct, Foot Locker]\n",
              "Texas           Dallas                       [Sports Direct, Foot Locker]\n",
              "                Houston               [Sports Direct, Walmart, West Gear]\n",
              "Utah            Salt Lake City                                [West Gear]\n",
              "Vermont         Burlington                            [Amazon, West Gear]\n",
              "Virginia        Richmond                     [Foot Locker, Sports Direct]\n",
              "Washington      Seattle                          [West Gear, Foot Locker]\n",
              "West Virginia   Charleston                       [West Gear, Foot Locker]\n",
              "Wisconsin       Milwaukee                                     [West Gear]\n",
              "Wyoming         Cheyenne                            [Kohl's, Foot Locker]\n",
              "Name: Retailer, dtype: object"
            ]
          },
          "metadata": {},
          "execution_count": 30
        }
      ]
    },
    {
      "cell_type": "code",
      "source": [
        "#4.\tList the products sold by the retailer in every city.\n",
        "pro=ad.groupby([\"Retailer\",\"City\"])\n",
        "pro['Product'].apply(list)"
      ],
      "metadata": {
        "colab": {
          "base_uri": "https://localhost:8080/"
        },
        "id": "GzKE7efvjeGm",
        "outputId": "6ffe4949-f5f4-4d3f-fe27-a4d6f4530070"
      },
      "execution_count": null,
      "outputs": [
        {
          "output_type": "execute_result",
          "data": {
            "text/plain": [
              "Retailer   City          \n",
              "Amazon     Anchorage         [Women's Apparel, Men's Street Footwear, Men's...\n",
              "           Birmingham        [Men's Street Footwear, Men's Athletic Footwea...\n",
              "           Boston            [Women's Apparel, Men's Street Footwear, Men's...\n",
              "           Burlington        [Women's Athletic Footwear, Men's Apparel, Wom...\n",
              "           Charlotte         [Women's Street Footwear, Women's Athletic Foo...\n",
              "                                                   ...                        \n",
              "West Gear  Portland          [Men's Street Footwear, Men's Athletic Footwea...\n",
              "           Salt Lake City    [Women's Athletic Footwear, Men's Apparel, Wom...\n",
              "           San Francisco     [Men's Apparel, Women's Apparel, Men's Street ...\n",
              "           Seattle           [Men's Apparel, Women's Apparel, Men's Street ...\n",
              "           St. Louis         [Women's Street Footwear, Women's Athletic Foo...\n",
              "Name: Product, Length: 108, dtype: object"
            ]
          },
          "metadata": {},
          "execution_count": 8
        }
      ]
    },
    {
      "cell_type": "code",
      "source": [
        "#5.\tFind the total sales of every retailer.\n",
        "tot=ad.groupby(\"Retailer\")\n",
        "tot.apply(lambda x: x['Total Sales'].sum())\n",
        "#tot['Total Sales'].sum()"
      ],
      "metadata": {
        "colab": {
          "base_uri": "https://localhost:8080/"
        },
        "id": "q34l-pAAkxIi",
        "outputId": "66a3c8bb-e7e3-4f7b-d638-a1301fd261c5"
      },
      "execution_count": null,
      "outputs": [
        {
          "output_type": "execute_result",
          "data": {
            "text/plain": [
              "Retailer\n",
              "Amazon            77698912.0\n",
              "Foot Locker      220094720.0\n",
              "Kohl's           102114753.0\n",
              "Sports Direct    182470997.0\n",
              "Walmart           74558410.0\n",
              "West Gear        242964333.0\n",
              "dtype: float64"
            ]
          },
          "metadata": {},
          "execution_count": 33
        }
      ]
    },
    {
      "cell_type": "code",
      "source": [
        "#6.\tFind the total sales of the retailers in every city along with profit.\n",
        "tot1=ad.groupby([\"Retailer\",\"City\"])\n",
        "print(\"Total sales of the retailers in every city:\\n\",tot1[\"Total Sales\"].sum())\n",
        "print(\"Profit of each retailer\\n\",tot1[\"Operating Profit\"].sum())"
      ],
      "metadata": {
        "colab": {
          "base_uri": "https://localhost:8080/"
        },
        "id": "Eik4PSX8nsYI",
        "outputId": "50598547-897c-4213-f878-5dac8265cf54"
      },
      "execution_count": null,
      "outputs": [
        {
          "output_type": "stream",
          "name": "stdout",
          "text": [
            "Total sales of the retailers in every city:\n",
            " Retailer   City          \n",
            "Amazon     Anchorage         13365025.0\n",
            "           Birmingham          409091.0\n",
            "           Boston             4193590.0\n",
            "           Burlington        13380463.0\n",
            "           Charlotte          3733676.0\n",
            "                                ...    \n",
            "West Gear  Portland          21934257.0\n",
            "           Salt Lake City     9696420.0\n",
            "           San Francisco     33360397.0\n",
            "           Seattle           24862675.0\n",
            "           St. Louis          1701133.0\n",
            "Name: Total Sales, Length: 108, dtype: float64\n",
            "Profit of each retailer\n",
            " Retailer   City          \n",
            "Amazon     Anchorage         4143804.75\n",
            "           Birmingham         146947.48\n",
            "           Boston            1375377.31\n",
            "           Burlington        5376161.02\n",
            "           Charlotte         1532481.72\n",
            "                                ...    \n",
            "West Gear  Portland          7712540.80\n",
            "           Salt Lake City    3873429.10\n",
            "           San Francisco     9843005.12\n",
            "           Seattle           6469771.84\n",
            "           St. Louis          681457.25\n",
            "Name: Operating Profit, Length: 108, dtype: float64\n"
          ]
        }
      ]
    },
    {
      "cell_type": "code",
      "source": [
        "#7.\tFind the total sales &profit of each product sold by the retailer.\n",
        "profit=ad.groupby([\"Retailer\",\"Product\"])\n",
        "print(\"Total sales of each product sold by the retailer \\n\",profit['Total Sales'].sum())\n",
        "print(\"Total profit of each product sold by the retailer \\n\",profit['Operating Profit'].sum())"
      ],
      "metadata": {
        "colab": {
          "base_uri": "https://localhost:8080/"
        },
        "id": "FhQNSPnbsPbZ",
        "outputId": "5141dcb1-7bea-4417-d73b-0185e9348d75"
      },
      "execution_count": null,
      "outputs": [
        {
          "output_type": "stream",
          "name": "stdout",
          "text": [
            "Total sales of each product sold by the retailer \n",
            " Retailer       Product                  \n",
            "Amazon         Men's Apparel                10474770.0\n",
            "               Men's Athletic Footwear      12011959.0\n",
            "               Men's Street Footwear        22161652.0\n",
            "               Women's Apparel              15710639.0\n",
            "               Women's Athletic Footwear     7935255.0\n",
            "               Women's Street Footwear       9404637.0\n",
            "Foot Locker    Men's Apparel                29508995.0\n",
            "               Men's Athletic Footwear      36480415.0\n",
            "               Men's Street Footwear        57481575.0\n",
            "               Women's Apparel              43296114.0\n",
            "               Women's Athletic Footwear    24239624.0\n",
            "               Women's Street Footwear      29087997.0\n",
            "Kohl's         Men's Apparel                14164965.0\n",
            "               Men's Athletic Footwear      17885316.0\n",
            "               Men's Street Footwear        22421073.0\n",
            "               Women's Apparel              20315239.0\n",
            "               Women's Athletic Footwear    12493869.0\n",
            "               Women's Street Footwear      14834291.0\n",
            "Sports Direct  Men's Apparel                24825286.0\n",
            "               Men's Athletic Footwear      30889734.0\n",
            "               Men's Street Footwear        38672270.0\n",
            "               Women's Apparel              37113257.0\n",
            "               Women's Athletic Footwear    23145288.0\n",
            "               Women's Street Footwear      27825162.0\n",
            "Walmart        Men's Apparel                11490680.0\n",
            "               Men's Athletic Footwear      13600404.0\n",
            "               Men's Street Footwear        14924255.0\n",
            "               Women's Apparel              15316099.0\n",
            "               Women's Athletic Footwear     8762792.0\n",
            "               Women's Street Footwear      10464180.0\n",
            "West Gear      Men's Apparel                33263936.0\n",
            "               Men's Athletic Footwear      42805852.0\n",
            "               Men's Street Footwear        53165419.0\n",
            "               Women's Apparel              47287512.0\n",
            "               Women's Athletic Footwear    30055068.0\n",
            "               Women's Street Footwear      36386546.0\n",
            "Name: Total Sales, dtype: float64\n",
            "Total profit of each product sold by the retailer \n",
            " Retailer       Product                  \n",
            "Amazon         Men's Apparel                 3331443.80\n",
            "               Men's Athletic Footwear       4518030.11\n",
            "               Men's Street Footwear         8707658.12\n",
            "               Women's Apparel               6280071.53\n",
            "               Women's Athletic Footwear     2701607.74\n",
            "               Women's Street Footwear       3279692.01\n",
            "Foot Locker    Men's Apparel                 9942404.61\n",
            "               Men's Athletic Footwear      12409221.49\n",
            "               Men's Street Footwear        23060809.17\n",
            "               Women's Apparel              17192901.49\n",
            "               Women's Athletic Footwear     8477313.73\n",
            "               Women's Street Footwear       9639474.32\n",
            "Kohl's         Men's Apparel                 5945043.20\n",
            "               Men's Athletic Footwear       5725762.60\n",
            "               Men's Street Footwear         9219819.89\n",
            "               Women's Apparel               5596172.50\n",
            "               Women's Athletic Footwear     4570693.09\n",
            "               Women's Street Footwear       5753761.30\n",
            "Sports Direct  Men's Apparel                 8723914.71\n",
            "               Men's Athletic Footwear      11935672.81\n",
            "               Men's Street Footwear        15837750.43\n",
            "               Women's Apparel              17832960.67\n",
            "               Women's Athletic Footwear     9688746.39\n",
            "               Women's Street Footwear      10313909.95\n",
            "Walmart        Men's Apparel                 3166591.22\n",
            "               Men's Athletic Footwear       4029257.65\n",
            "               Men's Street Footwear         5438666.13\n",
            "               Women's Apparel               6348451.03\n",
            "               Women's Athletic Footwear     3239052.49\n",
            "               Women's Street Footwear       3560034.09\n",
            "West Gear      Men's Apparel                13653632.79\n",
            "               Men's Athletic Footwear      13228943.53\n",
            "               Men's Street Footwear        20537556.88\n",
            "               Women's Apparel              15400413.34\n",
            "               Women's Athletic Footwear    10298371.50\n",
            "               Women's Street Footwear      12548955.14\n",
            "Name: Operating Profit, dtype: float64\n"
          ]
        }
      ]
    },
    {
      "cell_type": "code",
      "source": [
        "#8. Find the units sold, total sales &profit of the products sold between the dates 1/1/2020 and 4/15/2020.\n",
        "from datetime import datetime\n",
        "st_date=datetime.strptime('2020-01-01','%Y-%m-%d')\n",
        "en_date=datetime.strptime('2020-04-15','%Y-%m-%d')\n",
        "ad.loc[(ad[\"Invoice Date\"]>=st_date) & (ad[\"Invoice Date\"]<=en_date),['Invoice Date',\"Units Sold\",\"Total Sales\",\"Operating Profit\"]]"
      ],
      "metadata": {
        "colab": {
          "base_uri": "https://localhost:8080/",
          "height": 423
        },
        "id": "DcUDadjfu0lI",
        "outputId": "4ca427b7-b64a-40de-d537-134162dd41ce"
      },
      "execution_count": null,
      "outputs": [
        {
          "output_type": "execute_result",
          "data": {
            "text/plain": [
              "     Invoice Date  Units Sold  Total Sales  Operating Profit\n",
              "0      2020-01-01        1200     600000.0         300000.00\n",
              "1      2020-01-02        1000     500000.0         150000.00\n",
              "2      2020-01-03        1000     400000.0         140000.00\n",
              "3      2020-01-04         850     382500.0         133875.00\n",
              "4      2020-01-05         900     540000.0         162000.00\n",
              "...           ...         ...          ...               ...\n",
              "8275   2020-03-14         170       9520.0           1713.60\n",
              "8276   2020-03-15         149       2980.0           1192.00\n",
              "8277   2020-03-16         145       4495.0           1123.75\n",
              "8278   2020-03-17         128       3328.0           1397.76\n",
              "8279   2020-03-18          96       2496.0            848.64\n",
              "\n",
              "[425 rows x 4 columns]"
            ],
            "text/html": [
              "\n",
              "  <div id=\"df-2193ebec-1db5-4adb-923c-19e55e421e2b\">\n",
              "    <div class=\"colab-df-container\">\n",
              "      <div>\n",
              "<style scoped>\n",
              "    .dataframe tbody tr th:only-of-type {\n",
              "        vertical-align: middle;\n",
              "    }\n",
              "\n",
              "    .dataframe tbody tr th {\n",
              "        vertical-align: top;\n",
              "    }\n",
              "\n",
              "    .dataframe thead th {\n",
              "        text-align: right;\n",
              "    }\n",
              "</style>\n",
              "<table border=\"1\" class=\"dataframe\">\n",
              "  <thead>\n",
              "    <tr style=\"text-align: right;\">\n",
              "      <th></th>\n",
              "      <th>Invoice Date</th>\n",
              "      <th>Units Sold</th>\n",
              "      <th>Total Sales</th>\n",
              "      <th>Operating Profit</th>\n",
              "    </tr>\n",
              "  </thead>\n",
              "  <tbody>\n",
              "    <tr>\n",
              "      <th>0</th>\n",
              "      <td>2020-01-01</td>\n",
              "      <td>1200</td>\n",
              "      <td>600000.0</td>\n",
              "      <td>300000.00</td>\n",
              "    </tr>\n",
              "    <tr>\n",
              "      <th>1</th>\n",
              "      <td>2020-01-02</td>\n",
              "      <td>1000</td>\n",
              "      <td>500000.0</td>\n",
              "      <td>150000.00</td>\n",
              "    </tr>\n",
              "    <tr>\n",
              "      <th>2</th>\n",
              "      <td>2020-01-03</td>\n",
              "      <td>1000</td>\n",
              "      <td>400000.0</td>\n",
              "      <td>140000.00</td>\n",
              "    </tr>\n",
              "    <tr>\n",
              "      <th>3</th>\n",
              "      <td>2020-01-04</td>\n",
              "      <td>850</td>\n",
              "      <td>382500.0</td>\n",
              "      <td>133875.00</td>\n",
              "    </tr>\n",
              "    <tr>\n",
              "      <th>4</th>\n",
              "      <td>2020-01-05</td>\n",
              "      <td>900</td>\n",
              "      <td>540000.0</td>\n",
              "      <td>162000.00</td>\n",
              "    </tr>\n",
              "    <tr>\n",
              "      <th>...</th>\n",
              "      <td>...</td>\n",
              "      <td>...</td>\n",
              "      <td>...</td>\n",
              "      <td>...</td>\n",
              "    </tr>\n",
              "    <tr>\n",
              "      <th>8275</th>\n",
              "      <td>2020-03-14</td>\n",
              "      <td>170</td>\n",
              "      <td>9520.0</td>\n",
              "      <td>1713.60</td>\n",
              "    </tr>\n",
              "    <tr>\n",
              "      <th>8276</th>\n",
              "      <td>2020-03-15</td>\n",
              "      <td>149</td>\n",
              "      <td>2980.0</td>\n",
              "      <td>1192.00</td>\n",
              "    </tr>\n",
              "    <tr>\n",
              "      <th>8277</th>\n",
              "      <td>2020-03-16</td>\n",
              "      <td>145</td>\n",
              "      <td>4495.0</td>\n",
              "      <td>1123.75</td>\n",
              "    </tr>\n",
              "    <tr>\n",
              "      <th>8278</th>\n",
              "      <td>2020-03-17</td>\n",
              "      <td>128</td>\n",
              "      <td>3328.0</td>\n",
              "      <td>1397.76</td>\n",
              "    </tr>\n",
              "    <tr>\n",
              "      <th>8279</th>\n",
              "      <td>2020-03-18</td>\n",
              "      <td>96</td>\n",
              "      <td>2496.0</td>\n",
              "      <td>848.64</td>\n",
              "    </tr>\n",
              "  </tbody>\n",
              "</table>\n",
              "<p>425 rows × 4 columns</p>\n",
              "</div>\n",
              "      <button class=\"colab-df-convert\" onclick=\"convertToInteractive('df-2193ebec-1db5-4adb-923c-19e55e421e2b')\"\n",
              "              title=\"Convert this dataframe to an interactive table.\"\n",
              "              style=\"display:none;\">\n",
              "        \n",
              "  <svg xmlns=\"http://www.w3.org/2000/svg\" height=\"24px\"viewBox=\"0 0 24 24\"\n",
              "       width=\"24px\">\n",
              "    <path d=\"M0 0h24v24H0V0z\" fill=\"none\"/>\n",
              "    <path d=\"M18.56 5.44l.94 2.06.94-2.06 2.06-.94-2.06-.94-.94-2.06-.94 2.06-2.06.94zm-11 1L8.5 8.5l.94-2.06 2.06-.94-2.06-.94L8.5 2.5l-.94 2.06-2.06.94zm10 10l.94 2.06.94-2.06 2.06-.94-2.06-.94-.94-2.06-.94 2.06-2.06.94z\"/><path d=\"M17.41 7.96l-1.37-1.37c-.4-.4-.92-.59-1.43-.59-.52 0-1.04.2-1.43.59L10.3 9.45l-7.72 7.72c-.78.78-.78 2.05 0 2.83L4 21.41c.39.39.9.59 1.41.59.51 0 1.02-.2 1.41-.59l7.78-7.78 2.81-2.81c.8-.78.8-2.07 0-2.86zM5.41 20L4 18.59l7.72-7.72 1.47 1.35L5.41 20z\"/>\n",
              "  </svg>\n",
              "      </button>\n",
              "      \n",
              "  <style>\n",
              "    .colab-df-container {\n",
              "      display:flex;\n",
              "      flex-wrap:wrap;\n",
              "      gap: 12px;\n",
              "    }\n",
              "\n",
              "    .colab-df-convert {\n",
              "      background-color: #E8F0FE;\n",
              "      border: none;\n",
              "      border-radius: 50%;\n",
              "      cursor: pointer;\n",
              "      display: none;\n",
              "      fill: #1967D2;\n",
              "      height: 32px;\n",
              "      padding: 0 0 0 0;\n",
              "      width: 32px;\n",
              "    }\n",
              "\n",
              "    .colab-df-convert:hover {\n",
              "      background-color: #E2EBFA;\n",
              "      box-shadow: 0px 1px 2px rgba(60, 64, 67, 0.3), 0px 1px 3px 1px rgba(60, 64, 67, 0.15);\n",
              "      fill: #174EA6;\n",
              "    }\n",
              "\n",
              "    [theme=dark] .colab-df-convert {\n",
              "      background-color: #3B4455;\n",
              "      fill: #D2E3FC;\n",
              "    }\n",
              "\n",
              "    [theme=dark] .colab-df-convert:hover {\n",
              "      background-color: #434B5C;\n",
              "      box-shadow: 0px 1px 3px 1px rgba(0, 0, 0, 0.15);\n",
              "      filter: drop-shadow(0px 1px 2px rgba(0, 0, 0, 0.3));\n",
              "      fill: #FFFFFF;\n",
              "    }\n",
              "  </style>\n",
              "\n",
              "      <script>\n",
              "        const buttonEl =\n",
              "          document.querySelector('#df-2193ebec-1db5-4adb-923c-19e55e421e2b button.colab-df-convert');\n",
              "        buttonEl.style.display =\n",
              "          google.colab.kernel.accessAllowed ? 'block' : 'none';\n",
              "\n",
              "        async function convertToInteractive(key) {\n",
              "          const element = document.querySelector('#df-2193ebec-1db5-4adb-923c-19e55e421e2b');\n",
              "          const dataTable =\n",
              "            await google.colab.kernel.invokeFunction('convertToInteractive',\n",
              "                                                     [key], {});\n",
              "          if (!dataTable) return;\n",
              "\n",
              "          const docLinkHtml = 'Like what you see? Visit the ' +\n",
              "            '<a target=\"_blank\" href=https://colab.research.google.com/notebooks/data_table.ipynb>data table notebook</a>'\n",
              "            + ' to learn more about interactive tables.';\n",
              "          element.innerHTML = '';\n",
              "          dataTable['output_type'] = 'display_data';\n",
              "          await google.colab.output.renderOutput(dataTable, element);\n",
              "          const docLink = document.createElement('div');\n",
              "          docLink.innerHTML = docLinkHtml;\n",
              "          element.appendChild(docLink);\n",
              "        }\n",
              "      </script>\n",
              "    </div>\n",
              "  </div>\n",
              "  "
            ]
          },
          "metadata": {},
          "execution_count": 6
        }
      ]
    },
    {
      "cell_type": "code",
      "source": [
        "#9.\tFind the no of units sold of each product by each retailer in every city.\n",
        "rifa=ad.groupby(['Retailer','City','Product'])\n",
        "rifa['Units Sold'].sum()"
      ],
      "metadata": {
        "colab": {
          "base_uri": "https://localhost:8080/"
        },
        "id": "5mkFRjAR0mum",
        "outputId": "8374cb53-1333-44a3-d6f3-4384a2b0a521"
      },
      "execution_count": null,
      "outputs": [
        {
          "output_type": "execute_result",
          "data": {
            "text/plain": [
              "Retailer   City       Product                  \n",
              "Amazon     Anchorage  Men's Apparel                2990\n",
              "                      Men's Athletic Footwear      4478\n",
              "                      Men's Street Footwear        7882\n",
              "                      Women's Apparel              4995\n",
              "                      Women's Athletic Footwear    2810\n",
              "                                                   ... \n",
              "West Gear  St. Louis  Men's Athletic Footwear      1084\n",
              "                      Men's Street Footwear        1814\n",
              "                      Women's Apparel              1189\n",
              "                      Women's Athletic Footwear     851\n",
              "                      Women's Street Footwear      1678\n",
              "Name: Units Sold, Length: 618, dtype: int64"
            ]
          },
          "metadata": {},
          "execution_count": 68
        }
      ]
    },
    {
      "cell_type": "code",
      "source": [
        "#10.\tFind the products with different price per unit in different cities with proper information.\n",
        "pre=ad.groupby([\"City\",\"Price per Unit\"])\n",
        "pre[\"Product\"].apply(list)"
      ],
      "metadata": {
        "id": "Cf0iqxK03GQe",
        "colab": {
          "base_uri": "https://localhost:8080/"
        },
        "outputId": "18fe2644-082c-43c4-b260-fe03d446ff3d"
      },
      "execution_count": null,
      "outputs": [
        {
          "output_type": "execute_result",
          "data": {
            "text/plain": [
              "City        Price per Unit\n",
              "Albany      29.0              [Women's Street Footwear, Women's Street Footw...\n",
              "            30.0              [Women's Street Footwear, Women's Street Footw...\n",
              "            33.0                                      [Women's Street Footwear]\n",
              "            34.0              [Women's Street Footwear, Women's Athletic Foo...\n",
              "            35.0              [Women's Street Footwear, Women's Street Footw...\n",
              "                                                    ...                        \n",
              "Wilmington  62.0                         [Men's Apparel, Men's Street Footwear]\n",
              "            63.0                                              [Women's Apparel]\n",
              "            64.0                                              [Women's Apparel]\n",
              "            65.0              [Men's Apparel, Men's Street Footwear, Men's A...\n",
              "            70.0              [Women's Apparel, Women's Apparel, Women's App...\n",
              "Name: Product, Length: 2562, dtype: object"
            ]
          },
          "metadata": {},
          "execution_count": 3
        }
      ]
    },
    {
      "cell_type": "code",
      "source": [
        "#11.\tFind the total sales &profits of all products in every month.\n",
        "dat=ad.groupby([\"Product\",ad[\"Invoice Date\"].dt.month,ad[\"Invoice Date\"].dt.year])\n",
        "print(dat[\"Total Sales\"].sum())\n",
        "print(dat[\"Operating Profit\"].sum())"
      ],
      "metadata": {
        "colab": {
          "base_uri": "https://localhost:8080/"
        },
        "id": "r8a4Hnrgxtp7",
        "outputId": "6d5b4e6b-42c2-4be7-ce25-6d144b4059ee"
      },
      "execution_count": null,
      "outputs": [
        {
          "output_type": "stream",
          "name": "stdout",
          "text": [
            "Product                  Invoice Date  Invoice Date\n",
            "Men's Apparel            1             2020             2288362.0\n",
            "                                       2021             7965056.0\n",
            "                         2             2020             2284641.0\n",
            "                                       2021             6946917.0\n",
            "                         3             2020             2224467.0\n",
            "                                                          ...    \n",
            "Women's Street Footwear  10            2021             7101951.0\n",
            "                         11            2020             1559189.0\n",
            "                                       2021             7265669.0\n",
            "                         12            2020              952369.0\n",
            "                                       2021            10547148.0\n",
            "Name: Total Sales, Length: 144, dtype: float64\n",
            "Product                  Invoice Date  Invoice Date\n",
            "Men's Apparel            1             2020             857217.30\n",
            "                                       2021            3283757.97\n",
            "                         2             2020             994034.84\n",
            "                                       2021            2739326.41\n",
            "                         3             2020             891135.65\n",
            "                                                          ...    \n",
            "Women's Street Footwear  10            2021            2633541.98\n",
            "                         11            2020             535879.98\n",
            "                                       2021            2517466.24\n",
            "                         12            2020             347092.41\n",
            "                                       2021            3699986.98\n",
            "Name: Operating Profit, Length: 144, dtype: float64\n"
          ]
        }
      ]
    },
    {
      "cell_type": "code",
      "source": [
        "#12.    Find the total sales &profit of the products in different sales methods in each city.\n",
        "sale=ad.groupby([\"Sales Method\",\"City\"])\n",
        "print(\"Total sales:\",sale[\"Total Sales\"].sum())\n",
        "print(\"Total profit:\",sale[\"Operating Profit\"].sum())"
      ],
      "metadata": {
        "id": "ngF9-EwI2wMi",
        "colab": {
          "base_uri": "https://localhost:8080/"
        },
        "outputId": "12b587ed-22ce-4ace-acfa-b0839ef083f6"
      },
      "execution_count": null,
      "outputs": [
        {
          "output_type": "stream",
          "name": "stdout",
          "text": [
            "Total sales: Sales Method  City          \n",
            "In-store      Albany            23815000.0\n",
            "              Baltimore          7563250.0\n",
            "              Boston            10553750.0\n",
            "              Burlington        13679250.0\n",
            "              Charleston        10420000.0\n",
            "                                   ...    \n",
            "Outlet        Portland           9445482.0\n",
            "              Providence          190686.0\n",
            "              Richmond            485229.0\n",
            "              Salt Lake City      224438.0\n",
            "              San Francisco     33680352.0\n",
            "Name: Total Sales, Length: 112, dtype: float64\n",
            "Total profit: Sales Method  City          \n",
            "In-store      Albany            9121062.50\n",
            "              Baltimore         2664612.50\n",
            "              Boston            3151637.50\n",
            "              Burlington        5456525.00\n",
            "              Charleston        4142250.00\n",
            "                                   ...    \n",
            "Outlet        Portland          3270671.47\n",
            "              Providence          76759.23\n",
            "              Richmond           193031.55\n",
            "              Salt Lake City      99384.57\n",
            "              San Francisco     9900805.90\n",
            "Name: Operating Profit, Length: 112, dtype: float64\n"
          ]
        }
      ]
    },
    {
      "cell_type": "code",
      "source": [
        "#13. Find the retailers who sold the same product with different prices in different cities.\n",
        "fin=ad.groupby([\"Retailer\",\"Product\",\"City\"])\n",
        "fin[\"Price per Unit\"].unique().apply(list)"
      ],
      "metadata": {
        "colab": {
          "base_uri": "https://localhost:8080/"
        },
        "id": "Y0TU_bqdrc8c",
        "outputId": "1250a58d-5599-4ddd-84a7-f7f274ff34a2"
      },
      "execution_count": null,
      "outputs": [
        {
          "output_type": "execute_result",
          "data": {
            "text/plain": [
              "Retailer   Product                  City          \n",
              "Amazon     Men's Apparel            Anchorage         [65.00000000000001, 65.00000000000001, 60.0000...\n",
              "                                    Boston            [65.0, 65.0, 55.00000000000001, 63.0, 62.0, 52...\n",
              "                                    Burlington        [55.00000000000001, 55.00000000000001, 55.0000...\n",
              "                                    Charlotte                                  [70.0, 45.0, 65.0, 44.0]\n",
              "                                    Columbus          [45.0, 40.00000000000001, 45.0, 49.99999999999...\n",
              "                                                                            ...                        \n",
              "West Gear  Women's Street Footwear  Portland          [45.0, 54.99999999999999, 60.00000000000001, 5...\n",
              "                                    Salt Lake City    [20.000000000000007, 15.000000000000007, 25.00...\n",
              "                                    San Francisco     [50.0, 60.0, 65.0, 65.0, 65.0, 65.0, 65.0, 55....\n",
              "                                    Seattle           [50.0, 64.99999999999999, 75.0, 65.0, 80.0, 85...\n",
              "                                    St. Louis         [35.0, 15.000000000000002, 15.000000000000002,...\n",
              "Name: Price per Unit, Length: 618, dtype: object"
            ]
          },
          "metadata": {},
          "execution_count": 21
        }
      ]
    },
    {
      "cell_type": "code",
      "source": [
        "#14. Find the products whose sales raises in every month. \n",
        "s=ad[\"Product\"].unique()\n",
        "l=list(s)\n",
        "l.sort()\n",
        "l"
      ],
      "metadata": {
        "colab": {
          "base_uri": "https://localhost:8080/"
        },
        "id": "gfTaUdWXXIhB",
        "outputId": "4af80d46-8b45-47d5-eadb-b4c05ce48110"
      },
      "execution_count": null,
      "outputs": [
        {
          "output_type": "execute_result",
          "data": {
            "text/plain": [
              "[\"Men's Apparel\",\n",
              " \"Men's Athletic Footwear\",\n",
              " \"Men's Street Footwear\",\n",
              " \"Women's Apparel\",\n",
              " \"Women's Athletic Footwear\",\n",
              " \"Women's Street Footwear\"]"
            ]
          },
          "metadata": {},
          "execution_count": 6
        }
      ]
    },
    {
      "cell_type": "code",
      "source": [
        "prod=ad.groupby([\"Product\",ad[\"Invoice Date\"].dt.month,ad[\"Invoice Date\"].dt.year])\n",
        "g=prod[\"Total Sales\"].sum() \n",
        "g.dtype\n",
        "li=list(g)\n",
        "g\n"
      ],
      "metadata": {
        "colab": {
          "base_uri": "https://localhost:8080/"
        },
        "id": "YRpNY-6xXuuu",
        "outputId": "8ab4b921-1f40-4dcf-90d6-62e9c2c8b38f"
      },
      "execution_count": null,
      "outputs": [
        {
          "output_type": "execute_result",
          "data": {
            "text/plain": [
              "Product                  Invoice Date  Invoice Date\n",
              "Men's Apparel            1             2020             2288362.0\n",
              "                                       2021             7965056.0\n",
              "                         2             2020             2284641.0\n",
              "                                       2021             6946917.0\n",
              "                         3             2020             2224467.0\n",
              "                                                          ...    \n",
              "Women's Street Footwear  10            2021             7101951.0\n",
              "                         11            2020             1559189.0\n",
              "                                       2021             7265669.0\n",
              "                         12            2020              952369.0\n",
              "                                       2021            10547148.0\n",
              "Name: Total Sales, Length: 144, dtype: float64"
            ]
          },
          "metadata": {},
          "execution_count": 7
        }
      ]
    },
    {
      "cell_type": "code",
      "source": [
        "dic1={}\n",
        "dic2={}\n",
        "k=0\n",
        "m=24\n",
        "for i in l:\n",
        "    dic1[i]=li[k:m:2]\n",
        "    dic2[i]=li[k+1:m:2]\n",
        "    k=m\n",
        "    m+=24\n",
        "print(dic1 )\n",
        "print(dic2) \n"
      ],
      "metadata": {
        "colab": {
          "base_uri": "https://localhost:8080/"
        },
        "id": "-OwX53rvXxSA",
        "outputId": "e163dcc5-aef4-47b5-ff19-ba363314e14b"
      },
      "execution_count": null,
      "outputs": [
        {
          "output_type": "stream",
          "name": "stdout",
          "text": [
            "{\"Men's Apparel\": [2288362.0, 2284641.0, 2224467.0, 3789599.0, 2992951.0, 846588.0, 2355696.0, 3069057.0, 2759599.0, 1681612.0, 906313.0000000001, 1018079.0], \"Men's Athletic Footwear\": [2639958.0, 3055928.0, 3176299.0000000005, 4197444.0, 2913820.0000000005, 1541967.0, 3093292.0000000005, 4201586.0, 2741893.0000000005, 1482040.0, 1684996.0, 1065239.0], \"Men's Street Footwear\": [3859495.0, 2882776.0, 3683790.0, 5403244.0, 3209137.0, 1831450.0, 3840096.0000000005, 3244959.0, 3504026.0, 1994487.0, 2258139.0, 2111421.0], \"Women's Apparel\": [3066713.0, 2113861.0, 3570368.0, 4931081.0, 3322570.0, 1857493.0, 3291716.0, 3748758.0, 3835693.0000000005, 2342771.0, 1418844.0, 1690464.0], \"Women's Athletic Footwear\": [1990181.0, 2181938.0, 2379327.0, 2931669.0, 2160044.0000000005, 1150501.0, 2186525.0, 2687600.0, 2447313.0, 1531020.0000000002, 794819.0, 1188955.0], \"Women's Street Footwear\": [2409037.0, 2478844.0, 2626326.0, 3353969.0, 2319492.0000000005, 1601820.0, 2378688.0000000005, 2926020.0, 3015912.0, 1804339.0000000002, 1559189.0, 952369.0]}\n",
            "{\"Men's Apparel\": [7965056.0, 6946917.0, 5349925.0, 6114878.0, 8473896.0, 8631182.0, 10765350.0, 8708527.0, 7473855.0, 6936133.0, 9487223.0, 10658726.0], \"Men's Athletic Footwear\": [10451678.0, 7839214.0, 6743397.0, 7744805.0, 9947688.0, 9725886.0, 12968988.000000002, 13974791.000000002, 11595725.000000002, 9236718.000000002, 8455290.000000002, 13195038.000000002], \"Men's Street Footwear\": [11734700.0, 11316559.0, 9590963.0, 11399753.0, 15435431.0, 15402319.0, 19244657.0, 18607030.0, 14285930.0, 12557222.0, 12474812.0, 18953848.0], \"Women's Apparel\": [10286615.0, 8295794.0, 6714950.0, 10199898.0, 13658307.0, 15519917.0, 16233109.0, 12228186.0, 11119933.0, 11051405.0, 13629706.0, 14910708.0], \"Women's Athletic Footwear\": [6357156.0, 5029660.0, 4741774.0, 5188747.0, 7269641.0, 7593562.0, 8633584.0, 8139077.0, 6385166.000000001, 6191335.000000001, 7922340.000000002, 9549962.000000002], \"Women's Street Footwear\": [8430191.0, 6674021.000000001, 6007523.0, 7084883.0, 8804718.0, 9044687.0, 10488993.0, 10630610.0, 8496414.0, 7101951.000000001, 7265669.000000001, 10547148.000000002]}\n"
          ]
        }
      ]
    },
    {
      "cell_type": "code",
      "source": [
        "res=[]\n",
        "def ismonotonic(dic):\n",
        "   for i in dic:\n",
        "      print(i)\n",
        "      print(dic[i])\n",
        "      if(dic[i]==sorted(dic[i])):\n",
        "         res.append(i)\n",
        "   print(res) \n",
        "ismonotonic(dic1)\n",
        "ismonotonic(dic2)"
      ],
      "metadata": {
        "colab": {
          "base_uri": "https://localhost:8080/"
        },
        "id": "Fu7fyXjiX5ro",
        "outputId": "9f1546b1-9e50-42a0-d3e7-f6454e47ac39"
      },
      "execution_count": null,
      "outputs": [
        {
          "output_type": "stream",
          "name": "stdout",
          "text": [
            "Men's Apparel\n",
            "[2288362.0, 2284641.0, 2224467.0, 3789599.0, 2992951.0, 846588.0, 2355696.0, 3069057.0, 2759599.0, 1681612.0, 906313.0000000001, 1018079.0]\n",
            "Men's Athletic Footwear\n",
            "[2639958.0, 3055928.0, 3176299.0000000005, 4197444.0, 2913820.0000000005, 1541967.0, 3093292.0000000005, 4201586.0, 2741893.0000000005, 1482040.0, 1684996.0, 1065239.0]\n",
            "Men's Street Footwear\n",
            "[3859495.0, 2882776.0, 3683790.0, 5403244.0, 3209137.0, 1831450.0, 3840096.0000000005, 3244959.0, 3504026.0, 1994487.0, 2258139.0, 2111421.0]\n",
            "Women's Apparel\n",
            "[3066713.0, 2113861.0, 3570368.0, 4931081.0, 3322570.0, 1857493.0, 3291716.0, 3748758.0, 3835693.0000000005, 2342771.0, 1418844.0, 1690464.0]\n",
            "Women's Athletic Footwear\n",
            "[1990181.0, 2181938.0, 2379327.0, 2931669.0, 2160044.0000000005, 1150501.0, 2186525.0, 2687600.0, 2447313.0, 1531020.0000000002, 794819.0, 1188955.0]\n",
            "Women's Street Footwear\n",
            "[2409037.0, 2478844.0, 2626326.0, 3353969.0, 2319492.0000000005, 1601820.0, 2378688.0000000005, 2926020.0, 3015912.0, 1804339.0000000002, 1559189.0, 952369.0]\n",
            "[]\n",
            "Men's Apparel\n",
            "[7965056.0, 6946917.0, 5349925.0, 6114878.0, 8473896.0, 8631182.0, 10765350.0, 8708527.0, 7473855.0, 6936133.0, 9487223.0, 10658726.0]\n",
            "Men's Athletic Footwear\n",
            "[10451678.0, 7839214.0, 6743397.0, 7744805.0, 9947688.0, 9725886.0, 12968988.000000002, 13974791.000000002, 11595725.000000002, 9236718.000000002, 8455290.000000002, 13195038.000000002]\n",
            "Men's Street Footwear\n",
            "[11734700.0, 11316559.0, 9590963.0, 11399753.0, 15435431.0, 15402319.0, 19244657.0, 18607030.0, 14285930.0, 12557222.0, 12474812.0, 18953848.0]\n",
            "Women's Apparel\n",
            "[10286615.0, 8295794.0, 6714950.0, 10199898.0, 13658307.0, 15519917.0, 16233109.0, 12228186.0, 11119933.0, 11051405.0, 13629706.0, 14910708.0]\n",
            "Women's Athletic Footwear\n",
            "[6357156.0, 5029660.0, 4741774.0, 5188747.0, 7269641.0, 7593562.0, 8633584.0, 8139077.0, 6385166.000000001, 6191335.000000001, 7922340.000000002, 9549962.000000002]\n",
            "Women's Street Footwear\n",
            "[8430191.0, 6674021.000000001, 6007523.0, 7084883.0, 8804718.0, 9044687.0, 10488993.0, 10630610.0, 8496414.0, 7101951.000000001, 7265669.000000001, 10547148.000000002]\n",
            "[]\n"
          ]
        }
      ]
    },
    {
      "cell_type": "code",
      "source": [
        "di={}\n",
        "di['1']=[1,2,3,4,5]\n",
        "di['2']=[5,4,3,2,1]\n",
        "ismonotonic(di)"
      ],
      "metadata": {
        "colab": {
          "base_uri": "https://localhost:8080/"
        },
        "id": "LcRwvcxRtzR1",
        "outputId": "884eb62e-e4ef-4a1d-d106-ac61d6fa600d"
      },
      "execution_count": null,
      "outputs": [
        {
          "output_type": "stream",
          "name": "stdout",
          "text": [
            "1\n",
            "[1, 2, 3, 4, 5]\n",
            "2\n",
            "[5, 4, 3, 2, 1]\n",
            "['1']\n"
          ]
        }
      ]
    },
    {
      "cell_type": "code",
      "source": [
        "#15.\tFind the retailers whose profit increased every month.\n",
        "ret1=ad.groupby([\"Retailer\",ad[\"Invoice Date\"].dt.month,ad[\"Invoice Date\"].dt.year])\n",
        "op=ret1[\"Operating Profit\"].sum()\n",
        "print(op)\n",
        "o=list(op)\n",
        "lo=list(ad[\"Retailer\"].unique())\n",
        "lo.sort()\n",
        "di1={}\n",
        "di2={}\n",
        "x=0\n",
        "y=24\n",
        "for i in lo:\n",
        "  di1[i]=o[x:y:2]\n",
        "  di2[i]=o[x+1:y:2]\n",
        "  x=y\n",
        "  y=y+24\n",
        "print(di1)\n",
        "print(di2)\n"
      ],
      "metadata": {
        "colab": {
          "base_uri": "https://localhost:8080/"
        },
        "id": "_1KGiOVPYdhE",
        "outputId": "7b206d81-8894-438d-f8c1-8c0f56f869f6"
      },
      "execution_count": null,
      "outputs": [
        {
          "output_type": "stream",
          "name": "stdout",
          "text": [
            "Retailer   Invoice Date  Invoice Date\n",
            "Amazon     1             2021            1510504.30\n",
            "           2             2021            1718412.67\n",
            "           3             2021            1538595.61\n",
            "           4             2021            1477973.80\n",
            "           5             2021            2337932.60\n",
            "                                            ...    \n",
            "West Gear  10            2021            2921414.42\n",
            "           11            2020            1704195.27\n",
            "                         2021            4256055.92\n",
            "           12            2020            1440212.38\n",
            "                         2021            6232275.13\n",
            "Name: Operating Profit, Length: 104, dtype: float64\n",
            "{'Amazon': [1510504.3, 1538595.61, 2337932.6, 3214699.2600000002, 2166507.8000000003, 3147575.7800000003, 3544899.0, 1740765.27, 3654874.71, 332291.16, 497331.38, 8283187.68], 'Foot Locker': [2449680.7, 967544.3800000001, 433397.87, 1079280.9700000002, 968717.6799999999, 3565743.93, 3664048.61, 6150321.76, 2281553.03, 1691844.3, 2133540.6500000004, 2749782.47], \"Kohl's\": [2415666.0300000003, 6122853.77, 5866481.74, 1281606.83, 990998.2999999999, 1017489.5500000002, 1748543.5400000003, 4699689.840000001, 99590.71, 2909813.2600000002, 1520526.26, 1650002.7], 'Sports Direct': [2683283.68, 2561997.7, 1613528.9900000002, 1273494.1500000001, 631767.0000000001, 7797771.45, 4412804.98, 2519346.5, 2822357.0700000003, 4135097.08, 6102337.35, 7211202.73], 'Walmart': [5151923.8, 2648147.0200000005, 1704195.27, 1440212.3800000001], 'West Gear': []}\n",
            "{'Amazon': [1718412.6700000002, 1477973.8, 2805013.9, 2908765.97, 2404604.85, 3587916.77, 3761780.79, 3406118.47, 2990421.87, 2855056.97, 4630771.4799999995, 9486203.44], 'Foot Locker': [6286252.58, 2966561.8800000004, 3912707.7700000005, 6458173.69, 10016105.07, 4132789.4, 4280307.71, 2033911.57, 2222748.99, 1601393.9900000002, 303266.17, 2676128.63], \"Kohl's\": [3684733.67, 751295.8200000001, 3547535.31, 4260291.34, 7980826.720000001, 12803294.3, 8825360.21, 5660159.36, 180635.48, 699394.65, 954808.72, 186798.0], 'Sports Direct': [3174245.18, 2407629.02, 1957527.8, 1277009.3100000003, 2285106.41, 3466589.1700000004, 2207131.5500000003, 6059188.92, 3101688.4900000007, 2292727.41, 3449260.2800000003, 724000.3600000001], 'Walmart': [2727039.49, 2921414.4200000004, 4256055.92, 6232275.13], 'West Gear': []}\n"
          ]
        }
      ]
    }
  ],
  "metadata": {
    "colab": {
      "provenance": []
    },
    "kernelspec": {
      "display_name": "Python 3",
      "name": "python3"
    },
    "language_info": {
      "name": "python"
    }
  },
  "nbformat": 4,
  "nbformat_minor": 0
}